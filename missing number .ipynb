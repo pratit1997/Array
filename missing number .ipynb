{
 "cells": [
  {
   "cell_type": "code",
   "execution_count": 15,
   "id": "a2fee9b2",
   "metadata": {},
   "outputs": [
    {
     "name": "stdout",
     "output_type": "stream",
     "text": [
      "21\n",
      "4\n"
     ]
    }
   ],
   "source": [
    "def find_missing_number(x,n):\n",
    "    \n",
    "    expected_total=n*(n+1)//2\n",
    "    print(expected_total)\n",
    "    actual_total=sum(x)\n",
    "    return expected_total-actual_total\n",
    "    \n",
    "\n",
    "\n",
    "\n",
    "Array = [1,2,3,4,7]\n",
    "n=len(Array)+1\n",
    "\n",
    "missing_number=find_missing_number(Array,n)\n",
    "print(missing_number)"
   ]
  },
  {
   "cell_type": "code",
   "execution_count": null,
   "id": "f4845af7",
   "metadata": {},
   "outputs": [],
   "source": []
  }
 ],
 "metadata": {
  "kernelspec": {
   "display_name": "Python 3",
   "language": "python",
   "name": "python3"
  },
  "language_info": {
   "codemirror_mode": {
    "name": "ipython",
    "version": 3
   },
   "file_extension": ".py",
   "mimetype": "text/x-python",
   "name": "python",
   "nbconvert_exporter": "python",
   "pygments_lexer": "ipython3",
   "version": "3.8.8"
  }
 },
 "nbformat": 4,
 "nbformat_minor": 5
}
