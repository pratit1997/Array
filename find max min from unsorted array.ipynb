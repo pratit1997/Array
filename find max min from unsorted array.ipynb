{
 "cells": [
  {
   "cell_type": "code",
   "execution_count": 6,
   "id": "13b8abf3",
   "metadata": {},
   "outputs": [
    {
     "name": "stdout",
     "output_type": "stream",
     "text": [
      "(9, 2)\n"
     ]
    }
   ],
   "source": [
    "def find_Largest(x):\n",
    "    n=len(x)\n",
    "    largest=x[0]\n",
    "    smallest=x[0]\n",
    "    for i in x:\n",
    "        if i>largest:\n",
    "            largest=i\n",
    "        elif i<smallest:\n",
    "            smallest=i\n",
    "    return largest,smallest\n",
    "\n",
    "\n",
    "array=[6,2,7,9,4,6,3,6,3]\n",
    "output=find_Largest(array)\n",
    "print(output)"
   ]
  },
  {
   "cell_type": "code",
   "execution_count": null,
   "id": "922f73e2",
   "metadata": {},
   "outputs": [],
   "source": []
  }
 ],
 "metadata": {
  "kernelspec": {
   "display_name": "Python 3",
   "language": "python",
   "name": "python3"
  },
  "language_info": {
   "codemirror_mode": {
    "name": "ipython",
    "version": 3
   },
   "file_extension": ".py",
   "mimetype": "text/x-python",
   "name": "python",
   "nbconvert_exporter": "python",
   "pygments_lexer": "ipython3",
   "version": "3.8.8"
  }
 },
 "nbformat": 4,
 "nbformat_minor": 5
}
